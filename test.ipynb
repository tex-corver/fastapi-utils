{
 "cells": [
  {
   "cell_type": "code",
   "execution_count": 1,
   "metadata": {},
   "outputs": [],
   "source": [
    "import fastapi"
   ]
  },
  {
   "cell_type": "code",
   "execution_count": 2,
   "metadata": {},
   "outputs": [
    {
     "data": {
      "text/plain": [
       "<fastapi.routing.APIRouter at 0x7817640ecb60>"
      ]
     },
     "execution_count": 2,
     "metadata": {},
     "output_type": "execute_result"
    }
   ],
   "source": [
    "router = fastapi.APIRouter()\n",
    "router"
   ]
  },
  {
   "cell_type": "code",
   "execution_count": 3,
   "metadata": {},
   "outputs": [],
   "source": [
    "import os\n",
    "os.environ[\"CONFIG_PATH\"] = '/export/scratch/lle/projects/hoaem/monorepo/common-libs/fastapi-utils/tests/data/configs'\n",
    "import utils\n",
    "config = utils.load_config(os.environ[\"CONFIG_PATH\"])"
   ]
  },
  {
   "cell_type": "code",
   "execution_count": 24,
   "metadata": {},
   "outputs": [
    {
     "data": {
      "text/plain": [
       "{'name': (str,\n",
       "  FieldInfo(annotation=NoneType, required=False, default='default_name')),\n",
       " 'age': (int,\n",
       "  FieldInfo(annotation=NoneType, required=False, default_factory=<lambda>))}"
      ]
     },
     "execution_count": 24,
     "metadata": {},
     "output_type": "execute_result"
    }
   ],
   "source": [
    "import core\n",
    "import pydantic as pdt\n",
    "from typing import Any\n",
    "\n",
    "class Model(pdt.BaseModel):\n",
    "    name: str\n",
    "    age: int = pdt.Field(default_factory=lambda: 32)\n",
    "class CreateModelCommand(core.Command):\n",
    "    name: str = pdt.Field(default='default_name')\n",
    "    age: int = pdt.Field(default_factory=lambda: 32)\n",
    "\n",
    "def create_model(command: CreateModelCommand):\n",
    "    return command.name\n",
    "\n",
    "def extract_schema_fields(model: pdt.BaseModel) -> dict[str, tuple[Any, Any, Any]]:\n",
    "    fields_dict = {}\n",
    "    for field_name, field_info in model.model_fields.items():\n",
    "        # print(field_name)\n",
    "        # print(field_info.annotation.__name__)\n",
    "        # print(field_info.default_factory)\n",
    "        # print(field_info.default)\n",
    "        fields_dict[field_name] = (field_info.annotation, pdt.Field(default_factory=field_info.default_factory, default=field_info.default,))\n",
    "    #     field_type = field_info.type_\n",
    "    #     default_factory = field_info.default_factory\n",
    "    #     default = field_info.default\n",
    "    #     fields_dict[field_name] = (field_type, default_factory, default)\n",
    "    return fields_dict\n",
    "\n",
    "extract_schema_fields(CreateModelCommand)"
   ]
  },
  {
   "cell_type": "code",
   "execution_count": 25,
   "metadata": {},
   "outputs": [
    {
     "name": "stdout",
     "output_type": "stream",
     "text": [
      "Create\n",
      "Model\n",
      "{'name': (<class 'str'>, FieldInfo(annotation=NoneType, required=True)), 'age': (<class 'int'>, FieldInfo(annotation=NoneType, required=False, default_factory=<lambda>))}\n"
     ]
    }
   ],
   "source": [
    "def build_command_(action: str, model_schema: pdt.BaseModel):\n",
    "    print(action.capitalize())\n",
    "    print(model_schema.__name__)\n",
    "    print(extract_schema_fields(model_schema))\n",
    "    Command = pdt.create_model(\n",
    "        f\"{action.capitalize()}{model_schema.__name__}Command\",\n",
    "        **extract_schema_fields(model_schema),\n",
    "    )\n",
    "    return Command\n",
    "\n",
    "Command = build_command_('create', Model)"
   ]
  },
  {
   "cell_type": "code",
   "execution_count": 26,
   "metadata": {},
   "outputs": [
    {
     "data": {
      "text/plain": [
       "CreateModelCommand(name='1', age=32)"
      ]
     },
     "execution_count": 26,
     "metadata": {},
     "output_type": "execute_result"
    }
   ],
   "source": [
    "Command(name=\"1\")"
   ]
  },
  {
   "cell_type": "code",
   "execution_count": 28,
   "metadata": {},
   "outputs": [
    {
     "data": {
      "text/plain": [
       "'CreateModelCommand'"
      ]
     },
     "execution_count": 28,
     "metadata": {},
     "output_type": "execute_result"
    }
   ],
   "source": [
    "Command.__name__"
   ]
  },
  {
   "cell_type": "code",
   "execution_count": 36,
   "metadata": {},
   "outputs": [],
   "source": [
    "def snake_to_camel(snake_str: str) -> str:\n",
    "    components = snake_str.split('_')\n",
    "    return ''.join(x.title() for x in components)\n"
   ]
  },
  {
   "cell_type": "code",
   "execution_count": 44,
   "metadata": {},
   "outputs": [
    {
     "name": "stdout",
     "output_type": "stream",
     "text": [
      "('\\n'\n",
      " 'def create_cart_item(command: CreateModelCommand) -> CartItemResponse:\\n'\n",
      " '    bus = bootstrap.bootstrap()\\n'\n",
      " '    bus.handle(command)\\n'\n",
      " '    resource = view.fetch_model(\\n'\n",
      " '        model_cls=models.CartItem,\\n'\n",
      " '        creation_id=command._id,\\n'\n",
      " '    )\\n'\n",
      " '    ')\n"
     ]
    }
   ],
   "source": [
    "from fastapi_utils.resources.crud import camel_to_snake\n",
    "\n",
    "resource = camel_to_snake('CartItem')\n",
    "class CartItemResponse(pdt.BaseModel):\n",
    "    \"\"\"\"\"\"\n",
    "Response = CartItemResponse\n",
    "code = f\"\"\"\n",
    "def create_{resource}(command: {Command.__name__}) -> {Response.__name__}:\n",
    "    bus = bootstrap.bootstrap()\n",
    "    bus.handle(command)\n",
    "    resource = view.fetch_model(\n",
    "        model_cls=models.{snake_to_camel(resource)},\n",
    "        creation_id=command._id,\n",
    "    )\n",
    "    \"\"\"\n",
    "from pprint import pprint as pp\n",
    "pp(code)"
   ]
  },
  {
   "cell_type": "code",
   "execution_count": 50,
   "metadata": {},
   "outputs": [
    {
     "ename": "NameError",
     "evalue": "name 'bootstrap' is not defined",
     "output_type": "error",
     "traceback": [
      "\u001b[31m---------------------------------------------------------------------------\u001b[39m",
      "\u001b[31mNameError\u001b[39m                                 Traceback (most recent call last)",
      "\u001b[36mCell\u001b[39m\u001b[36m \u001b[39m\u001b[32mIn[50]\u001b[39m\u001b[32m, line 8\u001b[39m\n\u001b[32m      6\u001b[39m     \u001b[38;5;28;01mreturn\u001b[39;00m local_ns[\u001b[33mf\u001b[39m\u001b[33m\"\u001b[39m\u001b[33mcreate_\u001b[39m\u001b[38;5;132;01m{\u001b[39;00mresource\u001b[38;5;132;01m}\u001b[39;00m\u001b[33m\"\u001b[39m]\n\u001b[32m      7\u001b[39m f = build_handler(code)\n\u001b[32m----> \u001b[39m\u001b[32m8\u001b[39m \u001b[43mf\u001b[49m\u001b[43m(\u001b[49m\u001b[43mCommand\u001b[49m\u001b[43m(\u001b[49m\u001b[43mname\u001b[49m\u001b[43m=\u001b[49m\u001b[33;43m\"\u001b[39;49m\u001b[33;43m1\u001b[39;49m\u001b[33;43m\"\u001b[39;49m\u001b[43m)\u001b[49m\u001b[43m)\u001b[49m\n",
      "\u001b[36mFile \u001b[39m\u001b[32m<string>:3\u001b[39m, in \u001b[36mcreate_cart_item\u001b[39m\u001b[34m(command)\u001b[39m\n",
      "\u001b[31mNameError\u001b[39m: name 'bootstrap' is not defined"
     ]
    }
   ],
   "source": [
    "def build_handler(code):\n",
    "    local_ns = {}\n",
    "    exec(code,\n",
    "        globals(),\n",
    "        local_ns,)\n",
    "    return local_ns[f\"create_{resource}\"]\n",
    "f = build_handler(code)\n",
    "f(Command(name=\"1\"))"
   ]
  },
  {
   "cell_type": "code",
   "execution_count": 46,
   "metadata": {},
   "outputs": [
    {
     "ename": "NameError",
     "evalue": "name 'create_cart_item' is not defined",
     "output_type": "error",
     "traceback": [
      "\u001b[31m---------------------------------------------------------------------------\u001b[39m",
      "\u001b[31mNameError\u001b[39m                                 Traceback (most recent call last)",
      "\u001b[36mCell\u001b[39m\u001b[36m \u001b[39m\u001b[32mIn[46]\u001b[39m\u001b[32m, line 1\u001b[39m\n\u001b[32m----> \u001b[39m\u001b[32m1\u001b[39m router.add_api_route(\u001b[33m\"\u001b[39m\u001b[33m/cart-items\u001b[39m\u001b[33m\"\u001b[39m, \u001b[43mcreate_cart_item\u001b[49m, methods=[\u001b[33m\"\u001b[39m\u001b[33mPOST\u001b[39m\u001b[33m\"\u001b[39m])\n",
      "\u001b[31mNameError\u001b[39m: name 'create_cart_item' is not defined"
     ]
    }
   ],
   "source": [
    "router.add_api_route(\"/cart-items\", create_cart_item, methods=[\"POST\"])"
   ]
  },
  {
   "cell_type": "code",
   "execution_count": 7,
   "metadata": {},
   "outputs": [],
   "source": [
    "app = fastapi.FastAPI()\n",
    "app.include_router(router)"
   ]
  },
  {
   "cell_type": "code",
   "execution_count": 8,
   "metadata": {},
   "outputs": [
    {
     "data": {
      "text/plain": [
       "<Response [200 OK]>"
      ]
     },
     "execution_count": 8,
     "metadata": {},
     "output_type": "execute_result"
    }
   ],
   "source": [
    "from fastapi.testclient import TestClient\n",
    "\n",
    "rest = TestClient(app)\n",
    "response = rest.post(\"/models\", json={\"name\": \"test\"})\n",
    "response"
   ]
  },
  {
   "cell_type": "code",
   "execution_count": 9,
   "metadata": {},
   "outputs": [],
   "source": [
    "exec(\n",
    "    \"\"\"\n",
    "def create_model(command: CreateModelCommand):\n",
    "    return {\"name\": command.name}\n",
    "    \"\"\",\n",
    "    globals(), {},\n",
    ")"
   ]
  },
  {
   "cell_type": "code",
   "execution_count": 12,
   "metadata": {},
   "outputs": [
    {
     "data": {
      "text/plain": [
       "'test'"
      ]
     },
     "execution_count": 12,
     "metadata": {},
     "output_type": "execute_result"
    }
   ],
   "source": [
    "create_model(CreateModelCommand(name=\"test\"))"
   ]
  }
 ],
 "metadata": {
  "kernelspec": {
   "display_name": "fastapi-utils",
   "language": "python",
   "name": "python3"
  },
  "language_info": {
   "codemirror_mode": {
    "name": "ipython",
    "version": 3
   },
   "file_extension": ".py",
   "mimetype": "text/x-python",
   "name": "python",
   "nbconvert_exporter": "python",
   "pygments_lexer": "ipython3",
   "version": "3.12.3"
  }
 },
 "nbformat": 4,
 "nbformat_minor": 2
}
